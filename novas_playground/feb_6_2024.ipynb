{
 "cells": [
  {
   "cell_type": "code",
   "execution_count": 44,
   "metadata": {},
   "outputs": [],
   "source": [
    "import torch\n",
    "import torch.nn as nn"
   ]
  },
  {
   "cell_type": "code",
   "execution_count": 64,
   "metadata": {},
   "outputs": [],
   "source": [
    "# hyperparameters\n",
    "block_size = 6\n",
    "device = 'cuda' if torch.cuda.is_available() else 'cpu'\n",
    "batch_size = 16\n",
    "n_embd = 3"
   ]
  },
  {
   "cell_type": "code",
   "execution_count": 7,
   "metadata": {},
   "outputs": [
    {
     "data": {
      "text/plain": [
       "'First Citizen:\\nBefore we proceed any further, hear me speak.\\n\\nAll:\\nSpeak, speak.\\n\\nFirst Citizen:\\nYou'"
      ]
     },
     "execution_count": 7,
     "metadata": {},
     "output_type": "execute_result"
    }
   ],
   "source": [
    "text = open('../../data/shakespeare.txt', 'r', encoding=\"utf-8\").read()\n",
    "text[:100]"
   ]
  },
  {
   "cell_type": "code",
   "execution_count": 11,
   "metadata": {},
   "outputs": [
    {
     "data": {
      "text/plain": [
       "['\\n', ' ', '!', '$', '&', \"'\", ',', '-', '.', '3', ':', ';', '?', 'A', 'B']"
      ]
     },
     "execution_count": 11,
     "metadata": {},
     "output_type": "execute_result"
    }
   ],
   "source": [
    "chars = sorted(set(text))\n",
    "chars[:15]"
   ]
  },
  {
   "cell_type": "code",
   "execution_count": 18,
   "metadata": {},
   "outputs": [],
   "source": [
    "itoc = {i: c for i, c in enumerate(chars)}\n",
    "ctoi = {c: i for i, c in enumerate(chars)}\n",
    "encode = lambda s: [ctoi[c] for c in s]\n",
    "decode = lambda l: ''.join([itoc[c] for c in l])"
   ]
  },
  {
   "cell_type": "code",
   "execution_count": 28,
   "metadata": {},
   "outputs": [],
   "source": [
    "data = torch.tensor(encode(text))\n",
    "n = int(0.9*len(data))\n",
    "train_data = data[:n]\n",
    "test_data = data[n:]"
   ]
  },
  {
   "cell_type": "code",
   "execution_count": 41,
   "metadata": {},
   "outputs": [],
   "source": [
    "def get_batch(split):\n",
    "    \n",
    "    data = train_data if split == 'train' else test_data\n",
    "    ix = torch.randint(0, len(data) - block_size, (batch_size,))\n",
    "    \n",
    "    X = torch.stack([data[i:i+block_size] for i in ix])\n",
    "    y = torch.stack([data[i+1:i+1+block_size] for i in ix])\n",
    "    \n",
    "    X, y = X.to(device), y.to(device)\n",
    "    \n",
    "    return X, y\n",
    "    \n",
    "X, y = get_batch('train')"
   ]
  },
  {
   "cell_type": "code",
   "execution_count": 70,
   "metadata": {},
   "outputs": [
    {
     "name": "stdout",
     "output_type": "stream",
     "text": [
      "tensor([[[0.2209, 0.3995, 0.7796],\n",
      "         [0.9525, 0.5422, 0.9862],\n",
      "         [0.3222, 0.3460, 0.2547],\n",
      "         [0.7180, 0.7180, 0.7628],\n",
      "         [0.7975, 0.6919, 0.3358],\n",
      "         [0.7224, 0.0723, 0.4874]]])\n",
      "\n",
      "tensor([[[ 0.0724,  0.0988, -0.3838, -0.1094,  0.5333],\n",
      "         [ 0.0737,  0.0981, -0.3884, -0.1087,  0.5379],\n",
      "         [ 0.0751,  0.0937, -0.3854, -0.1037,  0.5294],\n",
      "         [ 0.0733,  0.0972, -0.3864, -0.1076,  0.5351],\n",
      "         [ 0.0756,  0.0930, -0.3877, -0.1029,  0.5318],\n",
      "         [ 0.0764,  0.0940, -0.3888, -0.1041,  0.5329]]],\n",
      "       grad_fn=<UnsafeViewBackward0>)\n"
     ]
    }
   ],
   "source": [
    "class attention(nn.Module):\n",
    "    \n",
    "    def __init__(self):\n",
    "        super().__init__()\n",
    "        head_size = 5\n",
    "        self.key = nn.Linear(n_embd, head_size, bias=False)\n",
    "        self.query = nn.Linear(n_embd, head_size, bias=False)\n",
    "        self.value = nn.Linear(n_embd, head_size, bias=False)\n",
    "        \n",
    "    def forward(self, x):\n",
    "        \n",
    "        B,T,C = x.shape\n",
    "        \n",
    "        k = self.key(x)\n",
    "        q = self.query(x)\n",
    "        \n",
    "        wei = q @ k.transpose(-2, -1) * C**-0.5\n",
    "        \n",
    "        wei = torch.softmax(wei, dim=-1)\n",
    "        \n",
    "        v = self.value(x)\n",
    "        \n",
    "        x = wei @ v\n",
    "        \n",
    "        return x\n",
    "        \n",
    "att = attention()\n",
    "\n",
    "X = torch.rand(1,block_size, n_embd) # B,T,C = 1, 6, 3\n",
    "\n",
    "print(X)\n",
    "print()\n",
    "\n",
    "print(att(X)) # B,T,C = 1, 6, 5"
   ]
  },
  {
   "cell_type": "code",
   "execution_count": 53,
   "metadata": {},
   "outputs": [
    {
     "data": {
      "text/plain": [
       "0.5773502691896257"
      ]
     },
     "execution_count": 53,
     "metadata": {},
     "output_type": "execute_result"
    }
   ],
   "source": [
    "C = 3\n",
    "C**-0.5"
   ]
  },
  {
   "cell_type": "code",
   "execution_count": 43,
   "metadata": {},
   "outputs": [
    {
     "data": {
      "text/plain": [
       "torch.Size([16, 128])"
      ]
     },
     "execution_count": 43,
     "metadata": {},
     "output_type": "execute_result"
    }
   ],
   "source": [
    "# @torch.no_grad()\n",
    "# def estimate_loss():\n",
    "#     outs = {}\n",
    "#     for split in ['train', 'val']:\n",
    "#         losses = torch.zeros()"
   ]
  }
 ],
 "metadata": {
  "kernelspec": {
   "display_name": "Python 3",
   "language": "python",
   "name": "python3"
  },
  "language_info": {
   "codemirror_mode": {
    "name": "ipython",
    "version": 3
   },
   "file_extension": ".py",
   "mimetype": "text/x-python",
   "name": "python",
   "nbconvert_exporter": "python",
   "pygments_lexer": "ipython3",
   "version": "3.8.10"
  }
 },
 "nbformat": 4,
 "nbformat_minor": 4
}
